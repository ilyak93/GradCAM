{
  "nbformat": 4,
  "nbformat_minor": 0,
  "metadata": {
    "colab": {
      "name": "GAIN_notebook.ipynb",
      "provenance": [],
      "collapsed_sections": [],
      "machine_shape": "hm"
    },
    "kernelspec": {
      "display_name": "Python 3",
      "language": "python",
      "name": "python3"
    },
    "language_info": {
      "codemirror_mode": {
        "name": "ipython",
        "version": 3
      },
      "file_extension": ".py",
      "mimetype": "text/x-python",
      "name": "python",
      "nbconvert_exporter": "python",
      "pygments_lexer": "ipython3",
      "version": "3.7.5-final"
    },
    "title": "236299 Project Segment 3: Parsing – The CKY Algorithm",
    "accelerator": "GPU"
  },
  "cells": [
    {
      "cell_type": "code",
      "metadata": {
        "id": "29AjQjLKQ950"
      },
      "source": [
        "# Please do not change this cell because some hidden tests might depend on it.\n",
        "import os\n",
        " \n",
        "def shell(commands, warn=True):\n",
        "    \"\"\"Executes the string `commands` as a sequence of shell commands.\n",
        "     \n",
        "       Prints the result to stdout and returns the exit status. \n",
        "       Provides a printed warning on non-zero exit status unless `warn` \n",
        "       flag is unset.\n",
        "    \"\"\"\n",
        "    file = os.popen(commands)\n",
        "    print (file.read().rstrip('\\n'))\n",
        "    exit_status = file.close()\n",
        "    if warn and exit_status != None:\n",
        "        print(f\"Completed with errors. Exit status: {exit_status}\\n\")\n",
        "    return exit_status"
      ],
      "execution_count": 1,
      "outputs": []
    },
    {
      "cell_type": "code",
      "metadata": {
        "id": "OEjJuj_wVGCh"
      },
      "source": [
        "from google.colab import drive\n",
        "drive.mount('/content/drive')"
      ],
      "execution_count": null,
      "outputs": []
    },
    {
      "cell_type": "code",
      "metadata": {
        "id": "aDVF1vt_aXxZ",
        "colab": {
          "base_uri": "https://localhost:8080/"
        },
        "outputId": "154a5acb-1cfc-4cae-c3f7-a461e7a2dc01"
      },
      "source": [
        "shell(\"\"\"\n",
        " git clone https://github.com/ilyak93/GAIN-pytorch\n",
        " mv ./GAIN-pytorch*/* ./\n",
        " rm -r GAIN-pytorch\n",
        "\n",
        "\"\"\")"
      ],
      "execution_count": 3,
      "outputs": [
        {
          "output_type": "stream",
          "name": "stdout",
          "text": [
            "\n"
          ]
        }
      ]
    },
    {
      "cell_type": "code",
      "metadata": {
        "id": "6tRR4H5taXxK"
      },
      "source": [
        " \n",
        " \n",
        "# Otter grader does not handle ! commands well, so we define and use our\n",
        "# own function to execute shell commands.\n",
        " \n",
        " \n",
        " \n",
        "!pip install -r requirements.txt\n"
      ],
      "execution_count": null,
      "outputs": []
    },
    {
      "cell_type": "markdown",
      "metadata": {
        "id": "xQVfC9hHsC5j"
      },
      "source": [
        "$$\n",
        "\\renewcommand{\\vect}[1]{\\mathbf{#1}}\n",
        "\\renewcommand{\\cnt}[1]{\\sharp(#1)}\n",
        "\\renewcommand{\\argmax}[1]{\\underset{#1}{\\operatorname{argmax}}}\n",
        "\\renewcommand{\\softmax}{\\operatorname{softmax}}\n",
        "\\renewcommand{\\Prob}{\\Pr}\n",
        "\\renewcommand{\\given}{\\,|\\,}\n",
        "$$"
      ]
    },
    {
      "cell_type": "code",
      "metadata": {
        "id": "4Qovn_p59m_U"
      },
      "source": [
        "# Download needed files and scripts\n",
        "shell(\"\"\"\n",
        " nvidia-smi\n",
        "\"\"\")\n",
        "\n"
      ],
      "execution_count": null,
      "outputs": []
    },
    {
      "cell_type": "code",
      "metadata": {
        "id": "z0fem6lekoun"
      },
      "source": [
        "import torch\n",
        "torch.cuda.is_available()"
      ],
      "execution_count": null,
      "outputs": []
    },
    {
      "cell_type": "markdown",
      "metadata": {
        "id": "E0klXvF8e1pX"
      },
      "source": [
        "Reproducing results of the paper:"
      ]
    },
    {
      "cell_type": "code",
      "metadata": {
        "id": "uXvILihcWC9Z"
      },
      "source": [
        "%load_ext tensorboard"
      ],
      "execution_count": null,
      "outputs": []
    },
    {
      "cell_type": "code",
      "metadata": {
        "id": "lBpgQgbeWZJc"
      },
      "source": [
        "%tensorboard --port=6009  --samples_per_plugin images=999999,text=999999 --logdir=\"./drive/MyDrive/logs\""
      ],
      "execution_count": null,
      "outputs": []
    },
    {
      "cell_type": "code",
      "metadata": {
        "id": "0PQjZwK4baph"
      },
      "source": [
        "%run main_GAIN_VOC.py --grads_off=1 --npretrain=5 --dataset_path=/content/drive/MyDrive/VOC-dataset --logging_path=/content/drive/MyDrive/logs/ --logging_name=without_grad --device=cuda:0 "
      ],
      "execution_count": null,
      "outputs": []
    },
    {
      "cell_type": "markdown",
      "metadata": {
        "id": "cp5KW9JKJBuC"
      },
      "source": [
        "Clean all the files after an update to your repo (if you did one), without affecting your drive (unmounting it temporary) and reclone them."
      ]
    },
    {
      "cell_type": "code",
      "metadata": {
        "id": "wYPxa25gXp0b",
        "colab": {
          "base_uri": "https://localhost:8080/"
        },
        "outputId": "4ae63562-807a-496c-bcfa-13ccaba6d01e"
      },
      "source": [
        "from google.colab import drive\n",
        "drive.flush_and_unmount()\n",
        "\n",
        "!rm -r ./*\n",
        "\n",
        "\n",
        "from google.colab import drive\n",
        "drive.mount('/content/drive')\n",
        "\n",
        "shell(\"\"\"\n",
        " git clone https://github.com/ilyak93/GAIN-pytorch/\n",
        " mv ./GAIN-pytorch*/* ./\n",
        " rm -r GAIN-pytorch\n",
        "\n",
        "\"\"\")"
      ],
      "execution_count": 7,
      "outputs": [
        {
          "output_type": "stream",
          "name": "stdout",
          "text": [
            "Mounted at /content/drive\n",
            "\n"
          ]
        }
      ]
    }
  ]
}